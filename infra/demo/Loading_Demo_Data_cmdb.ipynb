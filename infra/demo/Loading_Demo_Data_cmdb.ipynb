{
 "cells": [
  {
   "cell_type": "code",
   "execution_count": 3,
   "metadata": {},
   "outputs": [
    {
     "ename": "ImportError",
     "evalue": "attempted relative import with no known parent package",
     "output_type": "error",
     "traceback": [
      "\u001b[1;31m---------------------------------------------------------------------------\u001b[0m",
      "\u001b[1;31mImportError\u001b[0m                               Traceback (most recent call last)",
      "Cell \u001b[1;32mIn[3], line 3\u001b[0m\n\u001b[0;32m      1\u001b[0m \u001b[38;5;28;01mimport\u001b[39;00m \u001b[38;5;21;01mos\u001b[39;00m \n\u001b[1;32m----> 3\u001b[0m \u001b[38;5;28;01mfrom\u001b[39;00m \u001b[38;5;21;01m.\u001b[39;00m\u001b[38;5;21;01mgraph_update\u001b[39;00m \u001b[38;5;28;01mimport\u001b[39;00m dtdl\n",
      "\u001b[1;31mImportError\u001b[0m: attempted relative import with no known parent package"
     ]
    }
   ],
   "source": [
    "import os \n",
    "\n",
    "from .graph_update import dtdl"
   ]
  },
  {
   "cell_type": "markdown",
   "metadata": {},
   "source": [
    "# Loading the Demo Data\n",
    "\n",
    "This is just a one of script to load the data into cmdb, from the excel sheet `equipment.xls`. The models are all in the `demo/dtdl` folder. \n",
    "\n",
    "This is only for a demo. The application's assumption is that you have a larger data ontology/graph that you are connecting for your use case. \n"
   ]
  },
  {
   "cell_type": "code",
   "execution_count": null,
   "metadata": {},
   "outputs": [],
   "source": [
    "c = CosmosdbClient()\n",
    "\n",
    "try:    \n",
    "    df = pd.read_csv(os.path.join('.','infra','demo','equipment.csv'))\n",
    "except:\n",
    "    df = pd.read_csv(os.path.join('equipment.csv'))\n",
    "\n",
    "dtdls = [dtdl(j) for j in df.to_dict('records')]\n",
    "d = dtdls[0]\n",
    "\n",
    "\n",
    "j = df.to_dict('records')[0]\n",
    "dtdl(j)\n",
    "\n",
    "\n",
    "json.load(open(os.path.join('.','dtdl',j['class']+'.json')))\n",
    "\n",
    "d.template['extends'].replace('dtmi:com:adt:dtsample:','').replace(';1','')"
   ]
  },
  {
   "cell_type": "code",
   "execution_count": 6,
   "metadata": {},
   "outputs": [
    {
     "data": {
      "text/plain": [
       "['demo', 'Loading_Demo_Data_cmdb.ipynb']"
      ]
     },
     "execution_count": 6,
     "metadata": {},
     "output_type": "execute_result"
    }
   ],
   "source": [
    "os.listdir()"
   ]
  },
  {
   "cell_type": "code",
   "execution_count": null,
   "metadata": {},
   "outputs": [],
   "source": []
  }
 ],
 "metadata": {
  "kernelspec": {
   "display_name": "digitaltwin",
   "language": "python",
   "name": "python3"
  },
  "language_info": {
   "codemirror_mode": {
    "name": "ipython",
    "version": 3
   },
   "file_extension": ".py",
   "mimetype": "text/x-python",
   "name": "python",
   "nbconvert_exporter": "python",
   "pygments_lexer": "ipython3",
   "version": "3.11.5"
  }
 },
 "nbformat": 4,
 "nbformat_minor": 2
}
